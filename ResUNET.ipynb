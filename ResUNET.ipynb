{
  "cells": [
    {
      "cell_type": "code",
      "execution_count": null,
      "metadata": {
        "colab": {
          "base_uri": "https://localhost:8080/"
        },
        "id": "jOgZdlERsl2O",
        "outputId": "2d0b5437-dbb0-447e-877d-571a8ee4f63b"
      },
      "outputs": [],
      "source": [
        "!git clone https://github.com/lorenzoorsingher/resunet.git\n",
        "%cd resunet\n",
        "%mkdir data\n",
        "!pip install -r requirements.txt"
      ]
    },
    {
      "cell_type": "code",
      "execution_count": 6,
      "metadata": {
        "id": "YbgSfKEJl5S3"
      },
      "outputs": [],
      "source": [
        "\"\"\"\n",
        "When running this notebook on colab set the COLAB\n",
        "variable to True\n",
        "\"\"\"\n",
        "COLAB = True\n",
        "\n",
        "if COLAB:\n",
        "    from google.colab import drive\n",
        "    drive.mount('/content/drive')\n",
        "    zip_path = \"/content/drive/MyDrive/tesi/data/lfw/data/images.zip\"\n",
        "    jsonpath = \"..data/\"\n",
        "    datasetpath = \"..data/\"\n",
        "    colorpath = datasetpath + \"color/\"\n",
        "    bwpath = datasetpath + \"bw/\"\n",
        "    savepath = \"..data/checkpoints/\"\n",
        "\n",
        "    !unzip {zip_path} -d {datasetpath}"
      ]
    },
    {
      "cell_type": "code",
      "execution_count": null,
      "metadata": {
        "colab": {
          "base_uri": "https://localhost:8080/"
        },
        "id": "uzqJjKHWqBtx",
        "outputId": "4c14ca4e-4c71-4590-cac1-157a685d2f1f"
      },
      "outputs": [],
      "source": [
        "#@title Dataset standardization\n",
        "\n",
        "\"\"\"\n",
        "Run this cell if you don't have the json file with the standardization data\n",
        "for the dataset\n",
        "colorpath = path to the RGB images\n",
        "bwpath = path to the grayscale images\n",
        "jsonpath = path where the json file will be stored\n",
        "\"\"\"\n",
        "\n",
        "from normalize import DataNormalizer\n",
        "\n",
        "dn = DataNormalizer(colorpath, bwpath, jsonpath)\n",
        "dn.get_json()"
      ]
    },
    {
      "cell_type": "code",
      "execution_count": 4,
      "metadata": {},
      "outputs": [
        {
          "name": "stdout",
          "output_type": "stream",
          "text": [
            "usage: train.py [-h] [--json JSON] [--data DATA] [--save SAVE]\n",
            "                [--insize INSIZE] [--outsize OUTSIZE] [--batch BATCH]\n",
            "                [--epochs EPOCHS] [--video VIDEO] [--no-video]\n",
            "                [--load-chkp LOADCHKP]\n",
            "\n",
            "options:\n",
            "  -h, --help            show this help message and exit\n",
            "  --json JSON           Path where json file will be saved/read\n",
            "  --data DATA           Path to the dataset\n",
            "  --save SAVE           Path to where checkpoints will be saved\n",
            "  --insize INSIZE       Size of input image\n",
            "  --outsize OUTSIZE     Size of output image\n",
            "  --batch BATCH         Size of batches\n",
            "  --epochs EPOCHS       Number of epochs\n",
            "  --video VIDEO         Number of batches between every visualization\n",
            "  --no-video            Set for no visual debug\n",
            "  --load-chkp LOADCHKP  Path to checkpoints to be loaded\n"
          ]
        }
      ],
      "source": [
        "!python train.py -h"
      ]
    },
    {
      "cell_type": "code",
      "execution_count": null,
      "metadata": {
        "colab": {
          "base_uri": "https://localhost:8080/",
          "height": 1000
        },
        "id": "jqpDPQYZfF8j",
        "outputId": "9559d13d-34d6-46f4-d339-0e1f28279976"
      },
      "outputs": [],
      "source": [
        "if COLAB:\n",
        "    %run train.py --json {jsonpath} --data {datasetpath} --save {savepath} --colab --insize 128 --outsize 128\n",
        "else:\n",
        "    !python train.py "
      ]
    }
  ],
  "metadata": {
    "accelerator": "GPU",
    "colab": {
      "gpuType": "T4",
      "provenance": []
    },
    "kernelspec": {
      "display_name": "Python 3",
      "name": "python3"
    },
    "language_info": {
      "codemirror_mode": {
        "name": "ipython",
        "version": 3
      },
      "file_extension": ".py",
      "mimetype": "text/x-python",
      "name": "python",
      "nbconvert_exporter": "python",
      "pygments_lexer": "ipython3",
      "version": "3.11.4"
    }
  },
  "nbformat": 4,
  "nbformat_minor": 0
}
